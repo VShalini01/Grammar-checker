{
 "cells": [
  {
   "cell_type": "code",
   "execution_count": 3,
   "metadata": {},
   "outputs": [
    {
     "name": "stdout",
     "output_type": "stream",
     "text": [
      "Looking in indexes: https://download.pytorch.org/whl/cu118\n",
      "Requirement already satisfied: torch in c:\\users\\v.sathwika\\appdata\\local\\programs\\python\\python312\\lib\\site-packages (2.3.0+cu118)\n",
      "Requirement already satisfied: torchvision in c:\\users\\v.sathwika\\appdata\\local\\programs\\python\\python312\\lib\\site-packages (0.18.0+cu118)\n",
      "Requirement already satisfied: torchaudio in c:\\users\\v.sathwika\\appdata\\local\\programs\\python\\python312\\lib\\site-packages (2.3.0+cu118)\n",
      "Requirement already satisfied: filelock in c:\\users\\v.sathwika\\appdata\\local\\programs\\python\\python312\\lib\\site-packages (from torch) (3.13.4)\n",
      "Requirement already satisfied: typing-extensions>=4.8.0 in c:\\users\\v.sathwika\\appdata\\local\\programs\\python\\python312\\lib\\site-packages (from torch) (4.9.0)\n",
      "Requirement already satisfied: sympy in c:\\users\\v.sathwika\\appdata\\local\\programs\\python\\python312\\lib\\site-packages (from torch) (1.12)\n",
      "Requirement already satisfied: networkx in c:\\users\\v.sathwika\\appdata\\local\\programs\\python\\python312\\lib\\site-packages (from torch) (3.2.1)\n",
      "Requirement already satisfied: jinja2 in c:\\users\\v.sathwika\\appdata\\local\\programs\\python\\python312\\lib\\site-packages (from torch) (3.1.4)\n",
      "Requirement already satisfied: fsspec in c:\\users\\v.sathwika\\appdata\\local\\programs\\python\\python312\\lib\\site-packages (from torch) (2024.2.0)\n",
      "Requirement already satisfied: mkl<=2021.4.0,>=2021.1.1 in c:\\users\\v.sathwika\\appdata\\local\\programs\\python\\python312\\lib\\site-packages (from torch) (2021.4.0)\n",
      "Requirement already satisfied: numpy in c:\\users\\v.sathwika\\appdata\\local\\programs\\python\\python312\\lib\\site-packages (from torchvision) (1.26.3)\n",
      "Requirement already satisfied: pillow!=8.3.*,>=5.3.0 in c:\\users\\v.sathwika\\appdata\\local\\programs\\python\\python312\\lib\\site-packages (from torchvision) (10.2.0)\n",
      "Requirement already satisfied: intel-openmp==2021.* in c:\\users\\v.sathwika\\appdata\\local\\programs\\python\\python312\\lib\\site-packages (from mkl<=2021.4.0,>=2021.1.1->torch) (2021.4.0)\n",
      "Requirement already satisfied: tbb==2021.* in c:\\users\\v.sathwika\\appdata\\local\\programs\\python\\python312\\lib\\site-packages (from mkl<=2021.4.0,>=2021.1.1->torch) (2021.11.0)\n",
      "Requirement already satisfied: MarkupSafe>=2.0 in c:\\users\\v.sathwika\\appdata\\local\\programs\\python\\python312\\lib\\site-packages (from jinja2->torch) (2.1.5)\n",
      "Requirement already satisfied: mpmath>=0.19 in c:\\users\\v.sathwika\\appdata\\local\\programs\\python\\python312\\lib\\site-packages (from sympy->torch) (1.3.0)\n"
     ]
    }
   ],
   "source": [
    "!pip3 install torch torchvision torchaudio --index-url https://download.pytorch.org/whl/cu118"
   ]
  },
  {
   "cell_type": "code",
   "execution_count": 4,
   "metadata": {},
   "outputs": [
    {
     "name": "stdout",
     "output_type": "stream",
     "text": [
      "Collecting git+https://github.com/PrithivirajDamodaran/Gramformer.git\n",
      "  Cloning https://github.com/PrithivirajDamodaran/Gramformer.git to c:\\users\\v.sathwika\\appdata\\local\\temp\\pip-req-build-db4zztt1\n",
      "  Resolved https://github.com/PrithivirajDamodaran/Gramformer.git to commit 23425cd2e98a919384cab6156af8adf1c9d0639a\n",
      "  Preparing metadata (setup.py): started\n",
      "  Preparing metadata (setup.py): finished with status 'done'\n",
      "Requirement already satisfied: transformers in c:\\users\\v.sathwika\\appdata\\local\\programs\\python\\python312\\lib\\site-packages (from gramformer==1.0) (4.41.1)\n",
      "Requirement already satisfied: sentencepiece in c:\\users\\v.sathwika\\appdata\\local\\programs\\python\\python312\\lib\\site-packages (from gramformer==1.0) (0.2.0)\n",
      "Requirement already satisfied: python-Levenshtein in c:\\users\\v.sathwika\\appdata\\local\\programs\\python\\python312\\lib\\site-packages (from gramformer==1.0) (0.25.1)\n",
      "Requirement already satisfied: fuzzywuzzy in c:\\users\\v.sathwika\\appdata\\local\\programs\\python\\python312\\lib\\site-packages (from gramformer==1.0) (0.18.0)\n",
      "Requirement already satisfied: tokenizers in c:\\users\\v.sathwika\\appdata\\local\\programs\\python\\python312\\lib\\site-packages (from gramformer==1.0) (0.19.1)\n",
      "Requirement already satisfied: fsspec in c:\\users\\v.sathwika\\appdata\\local\\programs\\python\\python312\\lib\\site-packages (from gramformer==1.0) (2024.2.0)\n",
      "Requirement already satisfied: errant in c:\\users\\v.sathwika\\appdata\\local\\programs\\python\\python312\\lib\\site-packages (from gramformer==1.0) (3.0.0)\n",
      "Requirement already satisfied: spacy<4,>=3.2.0 in c:\\users\\v.sathwika\\appdata\\local\\programs\\python\\python312\\lib\\site-packages (from errant->gramformer==1.0) (3.7.4)\n",
      "Requirement already satisfied: rapidfuzz>=3.4.0 in c:\\users\\v.sathwika\\appdata\\local\\programs\\python\\python312\\lib\\site-packages (from errant->gramformer==1.0) (3.9.1)\n",
      "Requirement already satisfied: Levenshtein==0.25.1 in c:\\users\\v.sathwika\\appdata\\local\\programs\\python\\python312\\lib\\site-packages (from python-Levenshtein->gramformer==1.0) (0.25.1)\n",
      "Requirement already satisfied: huggingface-hub<1.0,>=0.16.4 in c:\\users\\v.sathwika\\appdata\\local\\programs\\python\\python312\\lib\\site-packages (from tokenizers->gramformer==1.0) (0.23.1)\n",
      "Requirement already satisfied: filelock in c:\\users\\v.sathwika\\appdata\\local\\programs\\python\\python312\\lib\\site-packages (from transformers->gramformer==1.0) (3.13.4)\n",
      "Requirement already satisfied: numpy>=1.17 in c:\\users\\v.sathwika\\appdata\\local\\programs\\python\\python312\\lib\\site-packages (from transformers->gramformer==1.0) (1.26.3)\n",
      "Requirement already satisfied: packaging>=20.0 in c:\\users\\v.sathwika\\appdata\\roaming\\python\\python312\\site-packages (from transformers->gramformer==1.0) (24.0)\n",
      "Requirement already satisfied: pyyaml>=5.1 in c:\\users\\v.sathwika\\appdata\\local\\programs\\python\\python312\\lib\\site-packages (from transformers->gramformer==1.0) (6.0.1)\n",
      "Requirement already satisfied: regex!=2019.12.17 in c:\\users\\v.sathwika\\appdata\\local\\programs\\python\\python312\\lib\\site-packages (from transformers->gramformer==1.0) (2024.5.15)\n",
      "Requirement already satisfied: requests in c:\\users\\v.sathwika\\appdata\\local\\programs\\python\\python312\\lib\\site-packages (from transformers->gramformer==1.0) (2.32.2)\n",
      "Requirement already satisfied: safetensors>=0.4.1 in c:\\users\\v.sathwika\\appdata\\local\\programs\\python\\python312\\lib\\site-packages (from transformers->gramformer==1.0) (0.4.3)\n",
      "Requirement already satisfied: tqdm>=4.27 in c:\\users\\v.sathwika\\appdata\\local\\programs\\python\\python312\\lib\\site-packages (from transformers->gramformer==1.0) (4.66.4)\n",
      "Requirement already satisfied: typing-extensions>=3.7.4.3 in c:\\users\\v.sathwika\\appdata\\local\\programs\\python\\python312\\lib\\site-packages (from huggingface-hub<1.0,>=0.16.4->tokenizers->gramformer==1.0) (4.9.0)\n",
      "Requirement already satisfied: spacy-legacy<3.1.0,>=3.0.11 in c:\\users\\v.sathwika\\appdata\\local\\programs\\python\\python312\\lib\\site-packages (from spacy<4,>=3.2.0->errant->gramformer==1.0) (3.0.12)\n",
      "Requirement already satisfied: spacy-loggers<2.0.0,>=1.0.0 in c:\\users\\v.sathwika\\appdata\\local\\programs\\python\\python312\\lib\\site-packages (from spacy<4,>=3.2.0->errant->gramformer==1.0) (1.0.5)\n",
      "Requirement already satisfied: murmurhash<1.1.0,>=0.28.0 in c:\\users\\v.sathwika\\appdata\\local\\programs\\python\\python312\\lib\\site-packages (from spacy<4,>=3.2.0->errant->gramformer==1.0) (1.0.10)\n",
      "Requirement already satisfied: cymem<2.1.0,>=2.0.2 in c:\\users\\v.sathwika\\appdata\\local\\programs\\python\\python312\\lib\\site-packages (from spacy<4,>=3.2.0->errant->gramformer==1.0) (2.0.8)\n",
      "Requirement already satisfied: preshed<3.1.0,>=3.0.2 in c:\\users\\v.sathwika\\appdata\\local\\programs\\python\\python312\\lib\\site-packages (from spacy<4,>=3.2.0->errant->gramformer==1.0) (3.0.9)\n",
      "Requirement already satisfied: thinc<8.3.0,>=8.2.2 in c:\\users\\v.sathwika\\appdata\\local\\programs\\python\\python312\\lib\\site-packages (from spacy<4,>=3.2.0->errant->gramformer==1.0) (8.2.3)\n",
      "Requirement already satisfied: wasabi<1.2.0,>=0.9.1 in c:\\users\\v.sathwika\\appdata\\local\\programs\\python\\python312\\lib\\site-packages (from spacy<4,>=3.2.0->errant->gramformer==1.0) (1.1.2)\n",
      "Requirement already satisfied: srsly<3.0.0,>=2.4.3 in c:\\users\\v.sathwika\\appdata\\local\\programs\\python\\python312\\lib\\site-packages (from spacy<4,>=3.2.0->errant->gramformer==1.0) (2.4.8)\n",
      "Requirement already satisfied: catalogue<2.1.0,>=2.0.6 in c:\\users\\v.sathwika\\appdata\\local\\programs\\python\\python312\\lib\\site-packages (from spacy<4,>=3.2.0->errant->gramformer==1.0) (2.0.10)\n",
      "Requirement already satisfied: weasel<0.4.0,>=0.1.0 in c:\\users\\v.sathwika\\appdata\\local\\programs\\python\\python312\\lib\\site-packages (from spacy<4,>=3.2.0->errant->gramformer==1.0) (0.3.4)\n",
      "Collecting typer<0.10.0,>=0.3.0 (from spacy<4,>=3.2.0->errant->gramformer==1.0)\n",
      "  Using cached typer-0.9.4-py3-none-any.whl.metadata (14 kB)\n",
      "Requirement already satisfied: smart-open<7.0.0,>=5.2.1 in c:\\users\\v.sathwika\\appdata\\local\\programs\\python\\python312\\lib\\site-packages (from spacy<4,>=3.2.0->errant->gramformer==1.0) (6.4.0)\n",
      "Requirement already satisfied: pydantic!=1.8,!=1.8.1,<3.0.0,>=1.7.4 in c:\\users\\v.sathwika\\appdata\\local\\programs\\python\\python312\\lib\\site-packages (from spacy<4,>=3.2.0->errant->gramformer==1.0) (2.7.1)\n",
      "Requirement already satisfied: jinja2 in c:\\users\\v.sathwika\\appdata\\local\\programs\\python\\python312\\lib\\site-packages (from spacy<4,>=3.2.0->errant->gramformer==1.0) (3.1.4)\n",
      "Requirement already satisfied: setuptools in c:\\users\\v.sathwika\\appdata\\local\\programs\\python\\python312\\lib\\site-packages (from spacy<4,>=3.2.0->errant->gramformer==1.0) (70.0.0)\n",
      "Requirement already satisfied: langcodes<4.0.0,>=3.2.0 in c:\\users\\v.sathwika\\appdata\\local\\programs\\python\\python312\\lib\\site-packages (from spacy<4,>=3.2.0->errant->gramformer==1.0) (3.4.0)\n",
      "Requirement already satisfied: charset-normalizer<4,>=2 in c:\\users\\v.sathwika\\appdata\\local\\programs\\python\\python312\\lib\\site-packages (from requests->transformers->gramformer==1.0) (3.3.2)\n",
      "Requirement already satisfied: idna<4,>=2.5 in c:\\users\\v.sathwika\\appdata\\local\\programs\\python\\python312\\lib\\site-packages (from requests->transformers->gramformer==1.0) (3.7)\n",
      "Requirement already satisfied: urllib3<3,>=1.21.1 in c:\\users\\v.sathwika\\appdata\\local\\programs\\python\\python312\\lib\\site-packages (from requests->transformers->gramformer==1.0) (2.2.1)\n",
      "Requirement already satisfied: certifi>=2017.4.17 in c:\\users\\v.sathwika\\appdata\\local\\programs\\python\\python312\\lib\\site-packages (from requests->transformers->gramformer==1.0) (2024.2.2)\n",
      "Requirement already satisfied: colorama in c:\\users\\v.sathwika\\appdata\\local\\programs\\python\\python312\\lib\\site-packages (from tqdm>=4.27->transformers->gramformer==1.0) (0.4.6)\n",
      "Requirement already satisfied: language-data>=1.2 in c:\\users\\v.sathwika\\appdata\\local\\programs\\python\\python312\\lib\\site-packages (from langcodes<4.0.0,>=3.2.0->spacy<4,>=3.2.0->errant->gramformer==1.0) (1.2.0)\n",
      "Requirement already satisfied: annotated-types>=0.4.0 in c:\\users\\v.sathwika\\appdata\\local\\programs\\python\\python312\\lib\\site-packages (from pydantic!=1.8,!=1.8.1,<3.0.0,>=1.7.4->spacy<4,>=3.2.0->errant->gramformer==1.0) (0.7.0)\n",
      "Requirement already satisfied: pydantic-core==2.18.2 in c:\\users\\v.sathwika\\appdata\\local\\programs\\python\\python312\\lib\\site-packages (from pydantic!=1.8,!=1.8.1,<3.0.0,>=1.7.4->spacy<4,>=3.2.0->errant->gramformer==1.0) (2.18.2)\n",
      "Requirement already satisfied: blis<0.8.0,>=0.7.8 in c:\\users\\v.sathwika\\appdata\\local\\programs\\python\\python312\\lib\\site-packages (from thinc<8.3.0,>=8.2.2->spacy<4,>=3.2.0->errant->gramformer==1.0) (0.7.11)\n",
      "Requirement already satisfied: confection<1.0.0,>=0.0.1 in c:\\users\\v.sathwika\\appdata\\local\\programs\\python\\python312\\lib\\site-packages (from thinc<8.3.0,>=8.2.2->spacy<4,>=3.2.0->errant->gramformer==1.0) (0.1.4)\n",
      "Requirement already satisfied: click<9.0.0,>=7.1.1 in c:\\users\\v.sathwika\\appdata\\local\\programs\\python\\python312\\lib\\site-packages (from typer<0.10.0,>=0.3.0->spacy<4,>=3.2.0->errant->gramformer==1.0) (8.1.7)\n",
      "Requirement already satisfied: cloudpathlib<0.17.0,>=0.7.0 in c:\\users\\v.sathwika\\appdata\\local\\programs\\python\\python312\\lib\\site-packages (from weasel<0.4.0,>=0.1.0->spacy<4,>=3.2.0->errant->gramformer==1.0) (0.16.0)\n",
      "Requirement already satisfied: MarkupSafe>=2.0 in c:\\users\\v.sathwika\\appdata\\local\\programs\\python\\python312\\lib\\site-packages (from jinja2->spacy<4,>=3.2.0->errant->gramformer==1.0) (2.1.5)\n",
      "Requirement already satisfied: marisa-trie>=0.7.7 in c:\\users\\v.sathwika\\appdata\\local\\programs\\python\\python312\\lib\\site-packages (from language-data>=1.2->langcodes<4.0.0,>=3.2.0->spacy<4,>=3.2.0->errant->gramformer==1.0) (1.1.1)\n",
      "Using cached typer-0.9.4-py3-none-any.whl (45 kB)\n",
      "Installing collected packages: typer\n",
      "  Attempting uninstall: typer\n",
      "    Found existing installation: typer 0.12.3\n",
      "    Uninstalling typer-0.12.3:\n",
      "      Successfully uninstalled typer-0.12.3\n",
      "Successfully installed typer-0.9.4\n"
     ]
    },
    {
     "name": "stderr",
     "output_type": "stream",
     "text": [
      "  Running command git clone --filter=blob:none --quiet https://github.com/PrithivirajDamodaran/Gramformer.git 'C:\\Users\\V.SATHWIKA\\AppData\\Local\\Temp\\pip-req-build-db4zztt1'\n",
      "ERROR: pip's dependency resolver does not currently take into account all the packages that are installed. This behaviour is the source of the following dependency conflicts.\n",
      "fastapi-cli 0.0.4 requires typer>=0.12.3, but you have typer 0.9.4 which is incompatible.\n"
     ]
    }
   ],
   "source": [
    "!pip install -U git+https://github.com/PrithivirajDamodaran/Gramformer.git"
   ]
  },
  {
   "cell_type": "code",
   "execution_count": 5,
   "metadata": {},
   "outputs": [
    {
     "name": "stdout",
     "output_type": "stream",
     "text": [
      "Requirement already satisfied: ipywidgets in c:\\users\\v.sathwika\\appdata\\local\\programs\\python\\python312\\lib\\site-packages (8.1.2)\n",
      "Requirement already satisfied: comm>=0.1.3 in c:\\users\\v.sathwika\\appdata\\roaming\\python\\python312\\site-packages (from ipywidgets) (0.2.2)\n",
      "Requirement already satisfied: ipython>=6.1.0 in c:\\users\\v.sathwika\\appdata\\roaming\\python\\python312\\site-packages (from ipywidgets) (8.24.0)\n",
      "Requirement already satisfied: traitlets>=4.3.1 in c:\\users\\v.sathwika\\appdata\\roaming\\python\\python312\\site-packages (from ipywidgets) (5.14.3)\n",
      "Requirement already satisfied: widgetsnbextension~=4.0.10 in c:\\users\\v.sathwika\\appdata\\local\\programs\\python\\python312\\lib\\site-packages (from ipywidgets) (4.0.10)\n",
      "Requirement already satisfied: jupyterlab-widgets~=3.0.10 in c:\\users\\v.sathwika\\appdata\\local\\programs\\python\\python312\\lib\\site-packages (from ipywidgets) (3.0.10)\n",
      "Requirement already satisfied: decorator in c:\\users\\v.sathwika\\appdata\\roaming\\python\\python312\\site-packages (from ipython>=6.1.0->ipywidgets) (5.1.1)\n",
      "Requirement already satisfied: jedi>=0.16 in c:\\users\\v.sathwika\\appdata\\roaming\\python\\python312\\site-packages (from ipython>=6.1.0->ipywidgets) (0.19.1)\n",
      "Requirement already satisfied: matplotlib-inline in c:\\users\\v.sathwika\\appdata\\roaming\\python\\python312\\site-packages (from ipython>=6.1.0->ipywidgets) (0.1.7)\n",
      "Requirement already satisfied: prompt-toolkit<3.1.0,>=3.0.41 in c:\\users\\v.sathwika\\appdata\\roaming\\python\\python312\\site-packages (from ipython>=6.1.0->ipywidgets) (3.0.43)\n",
      "Requirement already satisfied: pygments>=2.4.0 in c:\\users\\v.sathwika\\appdata\\roaming\\python\\python312\\site-packages (from ipython>=6.1.0->ipywidgets) (2.18.0)\n",
      "Requirement already satisfied: stack-data in c:\\users\\v.sathwika\\appdata\\roaming\\python\\python312\\site-packages (from ipython>=6.1.0->ipywidgets) (0.6.3)\n",
      "Requirement already satisfied: colorama in c:\\users\\v.sathwika\\appdata\\local\\programs\\python\\python312\\lib\\site-packages (from ipython>=6.1.0->ipywidgets) (0.4.6)\n",
      "Requirement already satisfied: parso<0.9.0,>=0.8.3 in c:\\users\\v.sathwika\\appdata\\roaming\\python\\python312\\site-packages (from jedi>=0.16->ipython>=6.1.0->ipywidgets) (0.8.4)\n",
      "Requirement already satisfied: wcwidth in c:\\users\\v.sathwika\\appdata\\roaming\\python\\python312\\site-packages (from prompt-toolkit<3.1.0,>=3.0.41->ipython>=6.1.0->ipywidgets) (0.2.13)\n",
      "Requirement already satisfied: executing>=1.2.0 in c:\\users\\v.sathwika\\appdata\\roaming\\python\\python312\\site-packages (from stack-data->ipython>=6.1.0->ipywidgets) (2.0.1)\n",
      "Requirement already satisfied: asttokens>=2.1.0 in c:\\users\\v.sathwika\\appdata\\roaming\\python\\python312\\site-packages (from stack-data->ipython>=6.1.0->ipywidgets) (2.4.1)\n",
      "Requirement already satisfied: pure-eval in c:\\users\\v.sathwika\\appdata\\roaming\\python\\python312\\site-packages (from stack-data->ipython>=6.1.0->ipywidgets) (0.2.2)\n",
      "Requirement already satisfied: six>=1.12.0 in c:\\users\\v.sathwika\\appdata\\roaming\\python\\python312\\site-packages (from asttokens>=2.1.0->stack-data->ipython>=6.1.0->ipywidgets) (1.16.0)\n",
      "Note: you may need to restart the kernel to use updated packages.\n"
     ]
    }
   ],
   "source": [
    "pip install -U ipywidgets\n"
   ]
  },
  {
   "cell_type": "code",
   "execution_count": 6,
   "metadata": {},
   "outputs": [],
   "source": [
    "import spacy\n",
    "nlp = spacy.load('en_core_web_sm')\n"
   ]
  },
  {
   "cell_type": "code",
   "execution_count": 7,
   "metadata": {},
   "outputs": [],
   "source": [
    "from gramformer import Gramformer"
   ]
  },
  {
   "cell_type": "code",
   "execution_count": 8,
   "metadata": {},
   "outputs": [],
   "source": [
    "gf = Gramformer(models=3, use_gpu=True)"
   ]
  },
  {
   "cell_type": "code",
   "execution_count": 9,
   "metadata": {},
   "outputs": [
    {
     "name": "stdout",
     "output_type": "stream",
     "text": [
      "Model is not loaded\n",
      "None\n"
     ]
    }
   ],
   "source": [
    "corrected_sentence = gf.correct(\"I am go to the store.\")\n",
    "print(corrected_sentence)\n"
   ]
  },
  {
   "cell_type": "code",
   "execution_count": 10,
   "metadata": {},
   "outputs": [],
   "source": [
    "import spacy\n",
    "nlp = spacy.load('en_core_web_sm')\n"
   ]
  },
  {
   "cell_type": "code",
   "execution_count": 11,
   "metadata": {},
   "outputs": [
    {
     "name": "stderr",
     "output_type": "stream",
     "text": [
      "c:\\Users\\V.SATHWIKA\\AppData\\Local\\Programs\\Python\\Python312\\Lib\\site-packages\\transformers\\models\\auto\\tokenization_auto.py:769: FutureWarning: The `use_auth_token` argument is deprecated and will be removed in v5 of Transformers. Please use `token` instead.\n",
      "  warnings.warn(\n",
      "c:\\Users\\V.SATHWIKA\\AppData\\Local\\Programs\\Python\\Python312\\Lib\\site-packages\\transformers\\models\\auto\\auto_factory.py:468: FutureWarning: The `use_auth_token` argument is deprecated and will be removed in v5 of Transformers. Please use `token` instead.\n",
      "  warnings.warn(\n"
     ]
    },
    {
     "name": "stdout",
     "output_type": "stream",
     "text": [
      "[Gramformer] Grammar error correct/highlight model loaded..\n"
     ]
    }
   ],
   "source": [
    "from gramformer import Gramformer\n",
    "gf = Gramformer(models=1, use_gpu=False)  # 1 corresponds to the corrector model\n"
   ]
  },
  {
   "cell_type": "code",
   "execution_count": 36,
   "metadata": {},
   "outputs": [
    {
     "name": "stdout",
     "output_type": "stream",
     "text": [
      "{'He is moving here.'}\n"
     ]
    }
   ],
   "source": [
    "corrected_sentence = gf.correct(\"He are moving here.\")\n",
    "print(corrected_sentence)\n"
   ]
  },
  {
   "cell_type": "code",
   "execution_count": 41,
   "metadata": {},
   "outputs": [
    {
     "name": "stdout",
     "output_type": "stream",
     "text": [
      "{'I like walks.'}\n",
      "{'The world is flat.'}\n",
      "{'Red is a bright color.'}\n",
      "{'I wish my computer was running faster.'}\n"
     ]
    }
   ],
   "source": [
    "sentences = [\n",
    "    'I like for walks', \n",
    "    'World is flat', \n",
    "    'Red is a bright coloe', \n",
    "    'I wish my Computer was run faster.'\n",
    "]\n",
    "for sentence in sentences:\n",
    "    res = gf.correct(sentence)\n",
    "    print(res)"
   ]
  },
  {
   "cell_type": "code",
   "execution_count": 14,
   "metadata": {},
   "outputs": [
    {
     "name": "stdout",
     "output_type": "stream",
     "text": [
      "Requirement already satisfied: gradio==3.50 in c:\\users\\v.sathwika\\appdata\\local\\programs\\python\\python312\\lib\\site-packages (3.50.0)\n",
      "Requirement already satisfied: aiofiles<24.0,>=22.0 in c:\\users\\v.sathwika\\appdata\\local\\programs\\python\\python312\\lib\\site-packages (from gradio==3.50) (23.2.1)\n",
      "Requirement already satisfied: altair<6.0,>=4.2.0 in c:\\users\\v.sathwika\\appdata\\local\\programs\\python\\python312\\lib\\site-packages (from gradio==3.50) (5.3.0)\n",
      "Requirement already satisfied: fastapi in c:\\users\\v.sathwika\\appdata\\local\\programs\\python\\python312\\lib\\site-packages (from gradio==3.50) (0.111.0)\n",
      "Requirement already satisfied: ffmpy in c:\\users\\v.sathwika\\appdata\\local\\programs\\python\\python312\\lib\\site-packages (from gradio==3.50) (0.3.2)\n",
      "Requirement already satisfied: gradio-client==0.6.1 in c:\\users\\v.sathwika\\appdata\\local\\programs\\python\\python312\\lib\\site-packages (from gradio==3.50) (0.6.1)\n",
      "Requirement already satisfied: httpx in c:\\users\\v.sathwika\\appdata\\local\\programs\\python\\python312\\lib\\site-packages (from gradio==3.50) (0.27.0)\n",
      "Requirement already satisfied: huggingface-hub>=0.14.0 in c:\\users\\v.sathwika\\appdata\\local\\programs\\python\\python312\\lib\\site-packages (from gradio==3.50) (0.23.1)\n",
      "Requirement already satisfied: importlib-resources<7.0,>=1.3 in c:\\users\\v.sathwika\\appdata\\local\\programs\\python\\python312\\lib\\site-packages (from gradio==3.50) (6.4.0)\n",
      "Requirement already satisfied: jinja2<4.0 in c:\\users\\v.sathwika\\appdata\\local\\programs\\python\\python312\\lib\\site-packages (from gradio==3.50) (3.1.4)\n",
      "Requirement already satisfied: markupsafe~=2.0 in c:\\users\\v.sathwika\\appdata\\local\\programs\\python\\python312\\lib\\site-packages (from gradio==3.50) (2.1.5)\n",
      "Requirement already satisfied: matplotlib~=3.0 in c:\\users\\v.sathwika\\appdata\\local\\programs\\python\\python312\\lib\\site-packages (from gradio==3.50) (3.9.0)\n",
      "Requirement already satisfied: numpy~=1.0 in c:\\users\\v.sathwika\\appdata\\local\\programs\\python\\python312\\lib\\site-packages (from gradio==3.50) (1.26.3)\n",
      "Requirement already satisfied: orjson~=3.0 in c:\\users\\v.sathwika\\appdata\\local\\programs\\python\\python312\\lib\\site-packages (from gradio==3.50) (3.10.3)\n",
      "Requirement already satisfied: packaging in c:\\users\\v.sathwika\\appdata\\roaming\\python\\python312\\site-packages (from gradio==3.50) (24.0)\n",
      "Requirement already satisfied: pandas<3.0,>=1.0 in c:\\users\\v.sathwika\\appdata\\local\\programs\\python\\python312\\lib\\site-packages (from gradio==3.50) (2.2.2)\n",
      "Requirement already satisfied: pillow<11.0,>=8.0 in c:\\users\\v.sathwika\\appdata\\local\\programs\\python\\python312\\lib\\site-packages (from gradio==3.50) (10.2.0)\n",
      "Requirement already satisfied: pydantic!=1.8,!=1.8.1,!=2.0.0,!=2.0.1,<3.0.0,>=1.7.4 in c:\\users\\v.sathwika\\appdata\\local\\programs\\python\\python312\\lib\\site-packages (from gradio==3.50) (2.7.1)\n",
      "Requirement already satisfied: pydub in c:\\users\\v.sathwika\\appdata\\local\\programs\\python\\python312\\lib\\site-packages (from gradio==3.50) (0.25.1)\n",
      "Requirement already satisfied: python-multipart in c:\\users\\v.sathwika\\appdata\\local\\programs\\python\\python312\\lib\\site-packages (from gradio==3.50) (0.0.9)\n",
      "Requirement already satisfied: pyyaml<7.0,>=5.0 in c:\\users\\v.sathwika\\appdata\\local\\programs\\python\\python312\\lib\\site-packages (from gradio==3.50) (6.0.1)\n",
      "Requirement already satisfied: requests~=2.0 in c:\\users\\v.sathwika\\appdata\\local\\programs\\python\\python312\\lib\\site-packages (from gradio==3.50) (2.32.2)\n",
      "Requirement already satisfied: semantic-version~=2.0 in c:\\users\\v.sathwika\\appdata\\local\\programs\\python\\python312\\lib\\site-packages (from gradio==3.50) (2.10.0)\n",
      "Requirement already satisfied: typing-extensions~=4.0 in c:\\users\\v.sathwika\\appdata\\local\\programs\\python\\python312\\lib\\site-packages (from gradio==3.50) (4.9.0)\n",
      "Requirement already satisfied: uvicorn>=0.14.0 in c:\\users\\v.sathwika\\appdata\\local\\programs\\python\\python312\\lib\\site-packages (from gradio==3.50) (0.29.0)\n",
      "Requirement already satisfied: websockets<12.0,>=10.0 in c:\\users\\v.sathwika\\appdata\\local\\programs\\python\\python312\\lib\\site-packages (from gradio==3.50) (11.0.3)\n",
      "Requirement already satisfied: fsspec in c:\\users\\v.sathwika\\appdata\\local\\programs\\python\\python312\\lib\\site-packages (from gradio-client==0.6.1->gradio==3.50) (2024.2.0)\n",
      "Requirement already satisfied: jsonschema>=3.0 in c:\\users\\v.sathwika\\appdata\\local\\programs\\python\\python312\\lib\\site-packages (from altair<6.0,>=4.2.0->gradio==3.50) (4.22.0)\n",
      "Requirement already satisfied: toolz in c:\\users\\v.sathwika\\appdata\\local\\programs\\python\\python312\\lib\\site-packages (from altair<6.0,>=4.2.0->gradio==3.50) (0.12.1)\n",
      "Requirement already satisfied: filelock in c:\\users\\v.sathwika\\appdata\\local\\programs\\python\\python312\\lib\\site-packages (from huggingface-hub>=0.14.0->gradio==3.50) (3.13.4)\n",
      "Requirement already satisfied: tqdm>=4.42.1 in c:\\users\\v.sathwika\\appdata\\local\\programs\\python\\python312\\lib\\site-packages (from huggingface-hub>=0.14.0->gradio==3.50) (4.66.4)\n",
      "Requirement already satisfied: contourpy>=1.0.1 in c:\\users\\v.sathwika\\appdata\\local\\programs\\python\\python312\\lib\\site-packages (from matplotlib~=3.0->gradio==3.50) (1.2.1)\n",
      "Requirement already satisfied: cycler>=0.10 in c:\\users\\v.sathwika\\appdata\\local\\programs\\python\\python312\\lib\\site-packages (from matplotlib~=3.0->gradio==3.50) (0.12.1)\n",
      "Requirement already satisfied: fonttools>=4.22.0 in c:\\users\\v.sathwika\\appdata\\local\\programs\\python\\python312\\lib\\site-packages (from matplotlib~=3.0->gradio==3.50) (4.52.1)\n",
      "Requirement already satisfied: kiwisolver>=1.3.1 in c:\\users\\v.sathwika\\appdata\\local\\programs\\python\\python312\\lib\\site-packages (from matplotlib~=3.0->gradio==3.50) (1.4.5)\n",
      "Requirement already satisfied: pyparsing>=2.3.1 in c:\\users\\v.sathwika\\appdata\\local\\programs\\python\\python312\\lib\\site-packages (from matplotlib~=3.0->gradio==3.50) (3.1.2)\n",
      "Requirement already satisfied: python-dateutil>=2.7 in c:\\users\\v.sathwika\\appdata\\roaming\\python\\python312\\site-packages (from matplotlib~=3.0->gradio==3.50) (2.9.0.post0)\n",
      "Requirement already satisfied: pytz>=2020.1 in c:\\users\\v.sathwika\\appdata\\local\\programs\\python\\python312\\lib\\site-packages (from pandas<3.0,>=1.0->gradio==3.50) (2024.1)\n",
      "Requirement already satisfied: tzdata>=2022.7 in c:\\users\\v.sathwika\\appdata\\local\\programs\\python\\python312\\lib\\site-packages (from pandas<3.0,>=1.0->gradio==3.50) (2024.1)\n",
      "Requirement already satisfied: annotated-types>=0.4.0 in c:\\users\\v.sathwika\\appdata\\local\\programs\\python\\python312\\lib\\site-packages (from pydantic!=1.8,!=1.8.1,!=2.0.0,!=2.0.1,<3.0.0,>=1.7.4->gradio==3.50) (0.7.0)\n",
      "Requirement already satisfied: pydantic-core==2.18.2 in c:\\users\\v.sathwika\\appdata\\local\\programs\\python\\python312\\lib\\site-packages (from pydantic!=1.8,!=1.8.1,!=2.0.0,!=2.0.1,<3.0.0,>=1.7.4->gradio==3.50) (2.18.2)\n",
      "Requirement already satisfied: charset-normalizer<4,>=2 in c:\\users\\v.sathwika\\appdata\\local\\programs\\python\\python312\\lib\\site-packages (from requests~=2.0->gradio==3.50) (3.3.2)\n",
      "Requirement already satisfied: idna<4,>=2.5 in c:\\users\\v.sathwika\\appdata\\local\\programs\\python\\python312\\lib\\site-packages (from requests~=2.0->gradio==3.50) (3.7)\n",
      "Requirement already satisfied: urllib3<3,>=1.21.1 in c:\\users\\v.sathwika\\appdata\\local\\programs\\python\\python312\\lib\\site-packages (from requests~=2.0->gradio==3.50) (2.2.1)\n",
      "Requirement already satisfied: certifi>=2017.4.17 in c:\\users\\v.sathwika\\appdata\\local\\programs\\python\\python312\\lib\\site-packages (from requests~=2.0->gradio==3.50) (2024.2.2)\n",
      "Requirement already satisfied: click>=7.0 in c:\\users\\v.sathwika\\appdata\\local\\programs\\python\\python312\\lib\\site-packages (from uvicorn>=0.14.0->gradio==3.50) (8.1.7)\n",
      "Requirement already satisfied: h11>=0.8 in c:\\users\\v.sathwika\\appdata\\local\\programs\\python\\python312\\lib\\site-packages (from uvicorn>=0.14.0->gradio==3.50) (0.14.0)\n",
      "Requirement already satisfied: starlette<0.38.0,>=0.37.2 in c:\\users\\v.sathwika\\appdata\\local\\programs\\python\\python312\\lib\\site-packages (from fastapi->gradio==3.50) (0.37.2)\n",
      "Requirement already satisfied: fastapi-cli>=0.0.2 in c:\\users\\v.sathwika\\appdata\\local\\programs\\python\\python312\\lib\\site-packages (from fastapi->gradio==3.50) (0.0.4)\n",
      "Requirement already satisfied: ujson!=4.0.2,!=4.1.0,!=4.2.0,!=4.3.0,!=5.0.0,!=5.1.0,>=4.0.1 in c:\\users\\v.sathwika\\appdata\\local\\programs\\python\\python312\\lib\\site-packages (from fastapi->gradio==3.50) (5.10.0)\n",
      "Requirement already satisfied: email_validator>=2.0.0 in c:\\users\\v.sathwika\\appdata\\local\\programs\\python\\python312\\lib\\site-packages (from fastapi->gradio==3.50) (2.1.1)\n",
      "Requirement already satisfied: anyio in c:\\users\\v.sathwika\\appdata\\local\\programs\\python\\python312\\lib\\site-packages (from httpx->gradio==3.50) (4.3.0)\n",
      "Requirement already satisfied: httpcore==1.* in c:\\users\\v.sathwika\\appdata\\local\\programs\\python\\python312\\lib\\site-packages (from httpx->gradio==3.50) (1.0.5)\n",
      "Requirement already satisfied: sniffio in c:\\users\\v.sathwika\\appdata\\local\\programs\\python\\python312\\lib\\site-packages (from httpx->gradio==3.50) (1.3.1)\n",
      "Requirement already satisfied: colorama in c:\\users\\v.sathwika\\appdata\\local\\programs\\python\\python312\\lib\\site-packages (from click>=7.0->uvicorn>=0.14.0->gradio==3.50) (0.4.6)\n",
      "Requirement already satisfied: dnspython>=2.0.0 in c:\\users\\v.sathwika\\appdata\\local\\programs\\python\\python312\\lib\\site-packages (from email_validator>=2.0.0->fastapi->gradio==3.50) (2.6.1)\n",
      "Collecting typer>=0.12.3 (from fastapi-cli>=0.0.2->fastapi->gradio==3.50)\n",
      "  Using cached typer-0.12.3-py3-none-any.whl.metadata (15 kB)\n",
      "Requirement already satisfied: attrs>=22.2.0 in c:\\users\\v.sathwika\\appdata\\local\\programs\\python\\python312\\lib\\site-packages (from jsonschema>=3.0->altair<6.0,>=4.2.0->gradio==3.50) (23.2.0)\n",
      "Requirement already satisfied: jsonschema-specifications>=2023.03.6 in c:\\users\\v.sathwika\\appdata\\local\\programs\\python\\python312\\lib\\site-packages (from jsonschema>=3.0->altair<6.0,>=4.2.0->gradio==3.50) (2023.12.1)\n",
      "Requirement already satisfied: referencing>=0.28.4 in c:\\users\\v.sathwika\\appdata\\local\\programs\\python\\python312\\lib\\site-packages (from jsonschema>=3.0->altair<6.0,>=4.2.0->gradio==3.50) (0.35.1)\n",
      "Requirement already satisfied: rpds-py>=0.7.1 in c:\\users\\v.sathwika\\appdata\\local\\programs\\python\\python312\\lib\\site-packages (from jsonschema>=3.0->altair<6.0,>=4.2.0->gradio==3.50) (0.18.1)\n",
      "Requirement already satisfied: six>=1.5 in c:\\users\\v.sathwika\\appdata\\roaming\\python\\python312\\site-packages (from python-dateutil>=2.7->matplotlib~=3.0->gradio==3.50) (1.16.0)\n",
      "Requirement already satisfied: httptools>=0.5.0 in c:\\users\\v.sathwika\\appdata\\local\\programs\\python\\python312\\lib\\site-packages (from uvicorn[standard]>=0.12.0->fastapi->gradio==3.50) (0.6.1)\n",
      "Requirement already satisfied: python-dotenv>=0.13 in c:\\users\\v.sathwika\\appdata\\local\\programs\\python\\python312\\lib\\site-packages (from uvicorn[standard]>=0.12.0->fastapi->gradio==3.50) (1.0.1)\n",
      "Requirement already satisfied: watchfiles>=0.13 in c:\\users\\v.sathwika\\appdata\\local\\programs\\python\\python312\\lib\\site-packages (from uvicorn[standard]>=0.12.0->fastapi->gradio==3.50) (0.21.0)\n",
      "Requirement already satisfied: shellingham>=1.3.0 in c:\\users\\v.sathwika\\appdata\\local\\programs\\python\\python312\\lib\\site-packages (from typer>=0.12.3->fastapi-cli>=0.0.2->fastapi->gradio==3.50) (1.5.4)\n",
      "Requirement already satisfied: rich>=10.11.0 in c:\\users\\v.sathwika\\appdata\\local\\programs\\python\\python312\\lib\\site-packages (from typer>=0.12.3->fastapi-cli>=0.0.2->fastapi->gradio==3.50) (13.7.1)\n",
      "Requirement already satisfied: markdown-it-py>=2.2.0 in c:\\users\\v.sathwika\\appdata\\local\\programs\\python\\python312\\lib\\site-packages (from rich>=10.11.0->typer>=0.12.3->fastapi-cli>=0.0.2->fastapi->gradio==3.50) (3.0.0)\n",
      "Requirement already satisfied: pygments<3.0.0,>=2.13.0 in c:\\users\\v.sathwika\\appdata\\roaming\\python\\python312\\site-packages (from rich>=10.11.0->typer>=0.12.3->fastapi-cli>=0.0.2->fastapi->gradio==3.50) (2.18.0)\n",
      "Requirement already satisfied: mdurl~=0.1 in c:\\users\\v.sathwika\\appdata\\local\\programs\\python\\python312\\lib\\site-packages (from markdown-it-py>=2.2.0->rich>=10.11.0->typer>=0.12.3->fastapi-cli>=0.0.2->fastapi->gradio==3.50) (0.1.2)\n",
      "Using cached typer-0.12.3-py3-none-any.whl (47 kB)\n",
      "Installing collected packages: typer\n",
      "  Attempting uninstall: typer\n",
      "    Found existing installation: typer 0.9.4\n",
      "    Uninstalling typer-0.9.4:\n",
      "      Successfully uninstalled typer-0.9.4\n",
      "Successfully installed typer-0.12.3\n"
     ]
    },
    {
     "name": "stderr",
     "output_type": "stream",
     "text": [
      "ERROR: pip's dependency resolver does not currently take into account all the packages that are installed. This behaviour is the source of the following dependency conflicts.\n",
      "spacy 3.7.4 requires typer<0.10.0,>=0.3.0, but you have typer 0.12.3 which is incompatible.\n",
      "weasel 0.3.4 requires typer<0.10.0,>=0.3.0, but you have typer 0.12.3 which is incompatible.\n"
     ]
    }
   ],
   "source": [
    "!pip install gradio==3.50"
   ]
  },
  {
   "cell_type": "code",
   "execution_count": 15,
   "metadata": {},
   "outputs": [],
   "source": [
    "import gradio as gr"
   ]
  },
  {
   "cell_type": "code",
   "execution_count": 20,
   "metadata": {},
   "outputs": [],
   "source": [
    "def correct(sentence):\n",
    "    res = gf.correct(sentence) # Gramformer correct\n",
    "    return res"
   ]
  },
  {
   "cell_type": "code",
   "execution_count": 32,
   "metadata": {},
   "outputs": [],
   "source": [
    "\n",
    "app_inputs = gr.Textbox(lines=2, placeholder=\"Enter the sentence\")"
   ]
  },
  {
   "cell_type": "code",
   "execution_count": 39,
   "metadata": {},
   "outputs": [
    {
     "name": "stdout",
     "output_type": "stream",
     "text": [
      "IMPORTANT: You are using gradio version 3.50.0, however version 4.29.0 is available, please upgrade.\n",
      "--------\n"
     ]
    }
   ],
   "source": [
    "interface = gr.Interface(fn=correct, \n",
    "                        inputs=app_inputs,\n",
    "                         outputs='text', \n",
    "                        title='Welcome to Grammar and Spell Corrector!')"
   ]
  },
  {
   "cell_type": "code",
   "execution_count": 40,
   "metadata": {},
   "outputs": [
    {
     "name": "stdout",
     "output_type": "stream",
     "text": [
      "Running on local URL:  http://127.0.0.1:7865\n",
      "\n",
      "To create a public link, set `share=True` in `launch()`.\n"
     ]
    },
    {
     "data": {
      "text/html": [
       "<div><iframe src=\"http://127.0.0.1:7865/\" width=\"100%\" height=\"500\" allow=\"autoplay; camera; microphone; clipboard-read; clipboard-write;\" frameborder=\"0\" allowfullscreen></iframe></div>"
      ],
      "text/plain": [
       "<IPython.core.display.HTML object>"
      ]
     },
     "metadata": {},
     "output_type": "display_data"
    },
    {
     "data": {
      "text/plain": []
     },
     "execution_count": 40,
     "metadata": {},
     "output_type": "execute_result"
    }
   ],
   "source": [
    "interface.launch()"
   ]
  }
 ],
 "metadata": {
  "kernelspec": {
   "display_name": "Python 3",
   "language": "python",
   "name": "python3"
  },
  "language_info": {
   "codemirror_mode": {
    "name": "ipython",
    "version": 3
   },
   "file_extension": ".py",
   "mimetype": "text/x-python",
   "name": "python",
   "nbconvert_exporter": "python",
   "pygments_lexer": "ipython3",
   "version": "3.12.3"
  }
 },
 "nbformat": 4,
 "nbformat_minor": 2
}
